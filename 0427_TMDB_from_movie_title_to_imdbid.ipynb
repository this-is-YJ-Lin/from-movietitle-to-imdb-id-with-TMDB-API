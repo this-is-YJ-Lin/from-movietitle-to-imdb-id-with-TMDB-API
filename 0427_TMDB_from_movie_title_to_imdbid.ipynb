{
 "cells": [
  {
   "cell_type": "markdown",
   "metadata": {},
   "source": [
    "requests:\n",
    "<ul>\n",
    "<li>1. search movie detail with movie title\n",
    "    <ul>\n",
    "    <li>https://api.themoviedb.org/3/search/movie?api_key=api_key&query=MOVIE+TITLE\n",
    "    </li>\n",
    "    </ul>\n",
    "<li>2. get imdb id \n",
    "    <ul>\n",
    "    <li>https://api.themoviedb.org/3/movie/TMDBid?api_key=api_key\n",
    "    </li>\n",
    "    </ul>\n",
    "</ul>"
   ]
  },
  {
   "cell_type": "code",
   "execution_count": 39,
   "metadata": {},
   "outputs": [
    {
     "data": {
      "text/plain": [
       "'tt6644200'"
      ]
     },
     "execution_count": 39,
     "metadata": {},
     "output_type": "execute_result"
    }
   ],
   "source": [
    "import requests\n",
    "\n",
    "# setting config\n",
    "CONFIG_PATTERN = 'https://api.themoviedb.org/3/authentication/token/new?api_key=e7a9762dabfdc186e180a0791bb06e7c'\n",
    "KEY = '<e7a9762dabfdc186e180a0791bb06e7c>'\n",
    "\n",
    "#search movie detail with movie title\n",
    "pre_metadata_PATTERN = 'https://api.themoviedb.org/3/search/movie?api_key=e7a9762dabfdc186e180a0791bb06e7c&query=A+Quiet+place' \n",
    "pre_results = requests.get(pre_metadata_PATTERN.format(key=KEY))\n",
    "search_api_response = pre_results.json()\n",
    "tmdb_id = search_api_response['results'][0]['id']\n",
    "tmdb_id = str(tmdb_id)\n",
    "\n",
    "#get imdb id \n",
    "offic_metadata_PATTERN = 'https://api.themoviedb.org/3/movie/'+ tmdb_id +'?api_key=e7a9762dabfdc186e180a0791bb06e7c' \n",
    "offic_results = requests.get(offic_metadata_PATTERN.format(key=KEY))\n",
    "imdb_api_response = offic_results.json()\n",
    "imdb_api_response['imdb_id']"
   ]
  },
  {
   "cell_type": "markdown",
   "metadata": {},
   "source": [
    "<div style=\"text-align:center;\"><h1>--------------------------------------------------------------------</h1></div>"
   ]
  },
  {
   "cell_type": "code",
   "execution_count": 15,
   "metadata": {},
   "outputs": [],
   "source": [
    "import requests\n",
    "CONFIG_PATTERN = 'https://api.themoviedb.org/3/authentication/token/new?api_key=e7a9762dabfdc186e180a0791bb06e7c'\n",
    "KEY = '<e7a9762dabfdc186e180a0791bb06e7c>'\n",
    "matadata_PATTERN = 'https://api.themoviedb.org/3/search/movie?api_key=e7a9762dabfdc186e180a0791bb06e7c&query=A+Quiet+place' \n",
    "re = requests.get(matadata_PATTERN.format(key=KEY))\n",
    "api_response = re.json()"
   ]
  },
  {
   "cell_type": "code",
   "execution_count": 16,
   "metadata": {
    "scrolled": true
   },
   "outputs": [
    {
     "data": {
      "text/plain": [
       "{'page': 1,\n",
       " 'results': [{'adult': False,\n",
       "   'backdrop_path': '/roYyPiQDQKmIKUEhO912693tSja.jpg',\n",
       "   'genre_ids': [18, 27, 53, 878],\n",
       "   'id': 447332,\n",
       "   'original_language': 'en',\n",
       "   'original_title': 'A Quiet Place',\n",
       "   'overview': 'A family is forced to live in silence while hiding from creatures that hunt by sound.',\n",
       "   'popularity': 110.996309,\n",
       "   'poster_path': '/nAU74GmpUk7t5iklEp3bufwDq4n.jpg',\n",
       "   'release_date': '2018-04-05',\n",
       "   'title': 'A Quiet Place',\n",
       "   'video': False,\n",
       "   'vote_average': 7.4,\n",
       "   'vote_count': 725},\n",
       "  {'adult': False,\n",
       "   'backdrop_path': '/naB43vfgNhQalRtWlD2EJRhWrih.jpg',\n",
       "   'genre_ids': [18, 53],\n",
       "   'id': 105079,\n",
       "   'original_language': 'it',\n",
       "   'original_title': 'A Quiet Place to Kill',\n",
       "   'overview': \"A race-car driver who's down on her luck is invited by her ex-husband's wife to stay at their plush villa. The two women form a bond, and it's not long before their mutual dislike for the husband culminates into a plan to kill him. As it turns out, though, they're not alone in plotting murder\",\n",
       "   'popularity': 2.056128,\n",
       "   'poster_path': '/d9hQU9tHARW75p1gIGYr6AegY0C.jpg',\n",
       "   'release_date': '1970-02-20',\n",
       "   'title': 'A Quiet Place to Kill',\n",
       "   'video': False,\n",
       "   'vote_average': 5.8,\n",
       "   'vote_count': 4},\n",
       "  {'adult': False,\n",
       "   'backdrop_path': None,\n",
       "   'genre_ids': [],\n",
       "   'id': 384154,\n",
       "   'original_language': 'ro',\n",
       "   'original_title': 'A Quiet Place',\n",
       "   'overview': 'A farm in Romania, far from any city. A young woman, Cristina, returns to her family after years away. Her parents treat her like a leper. Cristina only feels some kind of affection and familiarity for her younger sister, Marina. Where Cristina has been and how she has managed to survive remain unspoken – as indeed everything remains unspoken in the idyll of this apparently, at first glance, very tranquil place...',\n",
       "   'popularity': 1.068533,\n",
       "   'poster_path': None,\n",
       "   'release_date': '2016-02-18',\n",
       "   'title': 'A Quiet Place',\n",
       "   'video': False,\n",
       "   'vote_average': 0,\n",
       "   'vote_count': 0},\n",
       "  {'adult': False,\n",
       "   'backdrop_path': None,\n",
       "   'genre_ids': [],\n",
       "   'id': 454488,\n",
       "   'original_language': 'vi',\n",
       "   'original_title': 'Nơi bình yên chim hót',\n",
       "   'overview': \"After the war a young woman from Saigon goes to the countryside at the call of the government to teach socialism and patriotism to the local people, but discovers she doesn't really believe in most of what she teaches.\",\n",
       "   'popularity': 1.2875,\n",
       "   'poster_path': '/jOIOUf6gPuXh9QJJYTazOLYbGWU.jpg',\n",
       "   'release_date': '1986-04-01',\n",
       "   'title': 'A Bird Sang in a Quiet Place',\n",
       "   'video': False,\n",
       "   'vote_average': 0,\n",
       "   'vote_count': 0},\n",
       "  {'adult': False,\n",
       "   'backdrop_path': None,\n",
       "   'genre_ids': [],\n",
       "   'id': 473942,\n",
       "   'original_language': 'en',\n",
       "   'original_title': 'A Quiet Place',\n",
       "   'overview': '\"A Quiet Place\" is an American opera in three acts, with music by Leonard Bernstein to a libretto by Stephen Wadsworth. The work is a sequel to Bernstein\\'s 1951 short opera Trouble in Tahiti. In its initial form A Quiet Place was in one act; the premiere, on June 17, 1983, was a double bill: Trouble in Tahiti, intermission, A Quiet Place. In its three-act form, which appeared in 1984, Act Two of A Quiet Place largely consists of Trouble in Tahiti in flashback.  This is a German Television broadcast of the 1986 Vienna State Opera production, conducted by Leonard Bernstein.',\n",
       "   'popularity': 1.000001,\n",
       "   'poster_path': None,\n",
       "   'release_date': '1986-04-01',\n",
       "   'title': 'A Quiet Place',\n",
       "   'video': False,\n",
       "   'vote_average': 0,\n",
       "   'vote_count': 0},\n",
       "  {'adult': False,\n",
       "   'backdrop_path': None,\n",
       "   'genre_ids': [18, 27, 53, 878],\n",
       "   'id': 520763,\n",
       "   'original_language': 'en',\n",
       "   'original_title': 'A Quiet Place 2',\n",
       "   'overview': 'A sequel to the 2018 film, \"A Quiet Place.\"',\n",
       "   'popularity': 1,\n",
       "   'poster_path': None,\n",
       "   'release_date': '',\n",
       "   'title': 'A Quiet Place 2',\n",
       "   'video': False,\n",
       "   'vote_average': 0,\n",
       "   'vote_count': 0},\n",
       "  {'adult': False,\n",
       "   'backdrop_path': '/vDlUyZO9ZfqEBSxzsi8szduPm8r.jpg',\n",
       "   'genre_ids': [18, 27],\n",
       "   'id': 92927,\n",
       "   'original_language': 'it',\n",
       "   'original_title': 'Un tranquillo posto di campagna',\n",
       "   'overview': \"A painter facing a creative block arranges to spend the weekend in the country at his mistress's villa. While staying there, his sanity begins to disintegrate.\",\n",
       "   'popularity': 2.689745,\n",
       "   'poster_path': '/4ahu5ZU9fcWMRtl89VC8fGkOPEA.jpg',\n",
       "   'release_date': '1968-11-14',\n",
       "   'title': 'A Quiet Place in the Country',\n",
       "   'video': False,\n",
       "   'vote_average': 5.7,\n",
       "   'vote_count': 13}],\n",
       " 'total_pages': 1,\n",
       " 'total_results': 7}"
      ]
     },
     "execution_count": 16,
     "metadata": {},
     "output_type": "execute_result"
    }
   ],
   "source": [
    "api_response"
   ]
  },
  {
   "cell_type": "code",
   "execution_count": 29,
   "metadata": {},
   "outputs": [
    {
     "data": {
      "text/plain": [
       "'447332'"
      ]
     },
     "execution_count": 29,
     "metadata": {},
     "output_type": "execute_result"
    }
   ],
   "source": [
    "tmdb_id = api_response['results'][0]['id']\n",
    "tmdb_id = str(tmdb_id)\n",
    "tmdb_id"
   ]
  },
  {
   "cell_type": "code",
   "execution_count": 35,
   "metadata": {},
   "outputs": [],
   "source": [
    "import requests\n",
    "CONFIG_PATTERN = 'https://api.themoviedb.org/3/authentication/token/new?api_key=e7a9762dabfdc186e180a0791bb06e7c'\n",
    "KEY = '<e7a9762dabfdc186e180a0791bb06e7c>'\n",
    "matadata_PATTERN = 'https://api.themoviedb.org/3/movie/'+ tmdb_id +'?api_key=e7a9762dabfdc186e180a0791bb06e7c' \n",
    "re = requests.get(matadata_PATTERN.format(key=KEY))\n",
    "api_response = re.json()"
   ]
  },
  {
   "cell_type": "code",
   "execution_count": 37,
   "metadata": {},
   "outputs": [
    {
     "data": {
      "text/plain": [
       "'tt6644200'"
      ]
     },
     "execution_count": 37,
     "metadata": {},
     "output_type": "execute_result"
    }
   ],
   "source": [
    "api_response['imdb_id']"
   ]
  },
  {
   "cell_type": "code",
   "execution_count": null,
   "metadata": {
    "collapsed": true
   },
   "outputs": [],
   "source": []
  },
  {
   "cell_type": "code",
   "execution_count": 3,
   "metadata": {},
   "outputs": [],
   "source": [
    "import requests\n",
    "CONFIG_PATTERN = 'https://api.themoviedb.org/3/authentication/token/new?api_key=e7a9762dabfdc186e180a0791bb06e7c'\n",
    "KEY = '<e7a9762dabfdc186e180a0791bb06e7c>'\n",
    "\n",
    "IMG_PATTERN = 'http://api.themoviedb.org/3/movie/tt4154756/images?api_key=e7a9762dabfdc186e180a0791bb06e7c' \n",
    "r = requests.get(IMG_PATTERN.format(key=KEY,imdbid='tt4154756'))\n",
    "api_response = r.json()"
   ]
  }
 ],
 "metadata": {
  "kernelspec": {
   "display_name": "Python 3",
   "language": "python",
   "name": "python3"
  },
  "language_info": {
   "codemirror_mode": {
    "name": "ipython",
    "version": 3
   },
   "file_extension": ".py",
   "mimetype": "text/x-python",
   "name": "python",
   "nbconvert_exporter": "python",
   "pygments_lexer": "ipython3",
   "version": "3.6.1"
  }
 },
 "nbformat": 4,
 "nbformat_minor": 2
}
