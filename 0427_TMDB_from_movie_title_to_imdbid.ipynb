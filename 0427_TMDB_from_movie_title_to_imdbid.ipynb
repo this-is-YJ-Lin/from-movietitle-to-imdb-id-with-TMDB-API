{
 "cells": [
  {
   "cell_type": "markdown",
   "metadata": {},
   "source": [
    "requests:\n",
    "<ul>\n",
    "<li>1. search movie detail with movie title\n",
    "    <ul>\n",
    "    <li>https://api.themoviedb.org/3/search/movie?api_key=api_key&query=MOVIE+TITLE\n",
    "    </li>\n",
    "    </ul>\n",
    "<li>2. get imdb id \n",
    "    <ul>\n",
    "    <li>https://api.themoviedb.org/3/movie/TMDBid?api_key=api_key\n",
    "    </li>\n",
    "    </ul>\n",
    "</ul>\n",
    "\n",
    "<h1>Some bugs still need to fix it...</h1>\n",
    "<ul>\n",
    "    <li>\n",
    "    <p>& problem</p>\n",
    "    </li>\n",
    "    <li>\n",
    "    add some conditions for choose the result\n",
    "    </li>\n",
    "</ul>"
   ]
  },
  {
   "cell_type": "code",
   "execution_count": 55,
   "metadata": {},
   "outputs": [
    {
     "name": "stdout",
     "output_type": "stream",
     "text": [
      "---STAR---\n",
      "ready to get IMDb id from file...\n",
      "sucess\n",
      "tt4154756\n",
      "tt5843850\n",
      "tt6423776\n",
      "tt6108178\n",
      "tt5153288\n",
      "tt6069620\n",
      "tt7375578\n",
      "---FINISH---\n"
     ]
    }
   ],
   "source": [
    "import requests\n",
    "\n",
    "def get_title_from_file(address):\n",
    "    f= open(address, encoding = 'utf8')#讀所有詞\n",
    "    s = f.read()\n",
    "    #print(s)\n",
    "    spilt_s = s.split(\"\\n\")\n",
    "    return spilt_s\n",
    "\n",
    "print('---STAR---')\n",
    "print('ready to get IMDb id from file...')\n",
    "list_of_movie_title = get_title_from_file('test_title_to_imdbid.txt')\n",
    "print('sucess')\n",
    "\n",
    "# setting config\n",
    "CONFIG_PATTERN = 'https://api.themoviedb.org/3/authentication/token/new?api_key=e7a9762dabfdc186e180a0791bb06e7c'\n",
    "KEY = '<e7a9762dabfdc186e180a0791bb06e7c>'\n",
    "\n",
    "for title in list_of_movie_title:\n",
    "    #search movie detail with movie title\n",
    "    pre_metadata_PATTERN = 'https://api.themoviedb.org/3/search/movie?api_key=e7a9762dabfdc186e180a0791bb06e7c&query=' + title \n",
    "    pre_results = requests.get(pre_metadata_PATTERN.format(key=KEY))\n",
    "    search_api_response = pre_results.json()\n",
    "    tmdb_id = search_api_response['results'][0]['id']\n",
    "    tmdb_id = str(tmdb_id)\n",
    "\n",
    "    #get imdb id \n",
    "    offic_metadata_PATTERN = 'https://api.themoviedb.org/3/movie/'+ tmdb_id +'?api_key=e7a9762dabfdc186e180a0791bb06e7c' \n",
    "    offic_results = requests.get(offic_metadata_PATTERN.format(key=KEY))\n",
    "    imdb_api_response = offic_results.json()\n",
    "    print(imdb_api_response['imdb_id'])\n",
    "\n",
    "print('---FINISH---')"
   ]
  },
  {
   "cell_type": "code",
   "execution_count": 44,
   "metadata": {
    "scrolled": true
   },
   "outputs": [
    {
     "data": {
      "text/plain": [
       "{'page': 1,\n",
       " 'results': [{'adult': False,\n",
       "   'backdrop_path': None,\n",
       "   'genre_ids': [99],\n",
       "   'id': 520558,\n",
       "   'original_language': 'en',\n",
       "   'original_title': 'Love & Bananas: An Elephant Story',\n",
       "   'overview': 'Ashley Bell and a team of elephant rescuers led by world renowned Asian elephant conservationist Lek Chailert, embark on a daring 48-hour mission across Thailand to rescue a 70-year old captive blind Asian elephant and bring her to freedom.',\n",
       "   'popularity': 3.8,\n",
       "   'poster_path': '/7YEcTAqPsZPe0ownh4RVwJYj1em.jpg',\n",
       "   'release_date': '2018-04-22',\n",
       "   'title': 'Love & Bananas: An Elephant Story',\n",
       "   'video': False,\n",
       "   'vote_average': 0,\n",
       "   'vote_count': 0},\n",
       "  {'adult': False,\n",
       "   'backdrop_path': '/l7yrTK8n1h6u8IlKdtK39AWMQ5x.jpg',\n",
       "   'genre_ids': [14, 35, 10751, 12],\n",
       "   'id': 12129,\n",
       "   'original_language': 'en',\n",
       "   'original_title': 'Herbie Goes Bananas',\n",
       "   'overview': 'The adorable little VW helps its owners break up a counterfeiting ring in Mexico.',\n",
       "   'popularity': 6.230938,\n",
       "   'poster_path': '/wopSyv8aYHpoAYyJtU5pwwvRsgW.jpg',\n",
       "   'release_date': '1980-06-25',\n",
       "   'title': 'Herbie Goes Bananas',\n",
       "   'video': False,\n",
       "   'vote_average': 5.1,\n",
       "   'vote_count': 60}],\n",
       " 'total_pages': 1,\n",
       " 'total_results': 2}"
      ]
     },
     "execution_count": 44,
     "metadata": {},
     "output_type": "execute_result"
    }
   ],
   "source": [
    "pre_metadata_PATTERN = 'https://api.themoviedb.org/3/search/movie?api_key=e7a9762dabfdc186e180a0791bb06e7c&query=Love Bananas' \n",
    "pre_results = requests.get(pre_metadata_PATTERN.format(key=KEY))\n",
    "search_api_response = pre_results.json()\n",
    "search_api_response\n",
    "#tmdb_id = search_api_response['results'][0]['id']\n",
    "#tmdb_id = str(tmdb_id)"
   ]
  },
  {
   "cell_type": "code",
   "execution_count": 47,
   "metadata": {},
   "outputs": [
    {
     "data": {
      "text/plain": [
       "'tt5164432'"
      ]
     },
     "execution_count": 47,
     "metadata": {},
     "output_type": "execute_result"
    }
   ],
   "source": [
    "import requests\n",
    "\n",
    "# setting config\n",
    "CONFIG_PATTERN = 'https://api.themoviedb.org/3/authentication/token/new?api_key=e7a9762dabfdc186e180a0791bb06e7c'\n",
    "KEY = '<e7a9762dabfdc186e180a0791bb06e7c>'\n",
    "\n",
    "#search movie detail with movie title\n",
    "pre_metadata_PATTERN = 'https://api.themoviedb.org/3/search/movie?api_key=e7a9762dabfdc186e180a0791bb06e7c&query=Love & Bananas' \n",
    "pre_results = requests.get(pre_metadata_PATTERN.format(key=KEY))\n",
    "search_api_response = pre_results.json()\n",
    "tmdb_id = search_api_response['results'][0]['id']\n",
    "tmdb_id = str(tmdb_id)\n",
    "\n",
    "#get imdb id \n",
    "offic_metadata_PATTERN = 'https://api.themoviedb.org/3/movie/'+ tmdb_id +'?api_key=e7a9762dabfdc186e180a0791bb06e7c' \n",
    "offic_results = requests.get(offic_metadata_PATTERN.format(key=KEY))\n",
    "imdb_api_response = offic_results.json()\n",
    "imdb_api_response['imdb_id']"
   ]
  },
  {
   "cell_type": "markdown",
   "metadata": {},
   "source": [
    "<div style=\"text-align:center;\"><h1>--------------------------------------------------------------------</h1></div>"
   ]
  },
  {
   "cell_type": "code",
   "execution_count": 53,
   "metadata": {},
   "outputs": [],
   "source": [
    "import requests\n",
    "CONFIG_PATTERN = 'https://api.themoviedb.org/3/authentication/token/new?api_key=e7a9762dabfdc186e180a0791bb06e7c'\n",
    "KEY = '<e7a9762dabfdc186e180a0791bb06e7c>'\n",
    "matadata_PATTERN = 'https://api.themoviedb.org/3/search/movie?api_key=e7a9762dabfdc186e180a0791bb06e7c&query=Love + Bananas' \n",
    "re = requests.get(matadata_PATTERN.format(key=KEY))\n",
    "api_response = re.json()"
   ]
  },
  {
   "cell_type": "code",
   "execution_count": 54,
   "metadata": {
    "scrolled": true
   },
   "outputs": [
    {
     "data": {
      "text/plain": [
       "{'page': 1,\n",
       " 'results': [{'adult': False,\n",
       "   'backdrop_path': None,\n",
       "   'genre_ids': [99],\n",
       "   'id': 520558,\n",
       "   'original_language': 'en',\n",
       "   'original_title': 'Love & Bananas: An Elephant Story',\n",
       "   'overview': 'Ashley Bell and a team of elephant rescuers led by world renowned Asian elephant conservationist Lek Chailert, embark on a daring 48-hour mission across Thailand to rescue a 70-year old captive blind Asian elephant and bring her to freedom.',\n",
       "   'popularity': 3.8,\n",
       "   'poster_path': '/7YEcTAqPsZPe0ownh4RVwJYj1em.jpg',\n",
       "   'release_date': '2018-04-22',\n",
       "   'title': 'Love & Bananas: An Elephant Story',\n",
       "   'video': False,\n",
       "   'vote_average': 0,\n",
       "   'vote_count': 0},\n",
       "  {'adult': False,\n",
       "   'backdrop_path': '/l7yrTK8n1h6u8IlKdtK39AWMQ5x.jpg',\n",
       "   'genre_ids': [14, 35, 10751, 12],\n",
       "   'id': 12129,\n",
       "   'original_language': 'en',\n",
       "   'original_title': 'Herbie Goes Bananas',\n",
       "   'overview': 'The adorable little VW helps its owners break up a counterfeiting ring in Mexico.',\n",
       "   'popularity': 6.230938,\n",
       "   'poster_path': '/wopSyv8aYHpoAYyJtU5pwwvRsgW.jpg',\n",
       "   'release_date': '1980-06-25',\n",
       "   'title': 'Herbie Goes Bananas',\n",
       "   'video': False,\n",
       "   'vote_average': 5.1,\n",
       "   'vote_count': 60}],\n",
       " 'total_pages': 1,\n",
       " 'total_results': 2}"
      ]
     },
     "execution_count": 54,
     "metadata": {},
     "output_type": "execute_result"
    }
   ],
   "source": [
    "api_response"
   ]
  },
  {
   "cell_type": "code",
   "execution_count": 29,
   "metadata": {},
   "outputs": [
    {
     "data": {
      "text/plain": [
       "'447332'"
      ]
     },
     "execution_count": 29,
     "metadata": {},
     "output_type": "execute_result"
    }
   ],
   "source": [
    "tmdb_id = api_response['results'][0]['id']\n",
    "tmdb_id = str(tmdb_id)\n",
    "tmdb_id"
   ]
  },
  {
   "cell_type": "code",
   "execution_count": 35,
   "metadata": {},
   "outputs": [],
   "source": [
    "import requests\n",
    "CONFIG_PATTERN = 'https://api.themoviedb.org/3/authentication/token/new?api_key=e7a9762dabfdc186e180a0791bb06e7c'\n",
    "KEY = '<e7a9762dabfdc186e180a0791bb06e7c>'\n",
    "matadata_PATTERN = 'https://api.themoviedb.org/3/movie/'+ tmdb_id +'?api_key=e7a9762dabfdc186e180a0791bb06e7c' \n",
    "re = requests.get(matadata_PATTERN.format(key=KEY))\n",
    "api_response = re.json()"
   ]
  },
  {
   "cell_type": "code",
   "execution_count": 37,
   "metadata": {},
   "outputs": [
    {
     "data": {
      "text/plain": [
       "'tt6644200'"
      ]
     },
     "execution_count": 37,
     "metadata": {},
     "output_type": "execute_result"
    }
   ],
   "source": [
    "api_response['imdb_id']"
   ]
  },
  {
   "cell_type": "code",
   "execution_count": 3,
   "metadata": {},
   "outputs": [],
   "source": [
    "import requests\n",
    "CONFIG_PATTERN = 'https://api.themoviedb.org/3/authentication/token/new?api_key=e7a9762dabfdc186e180a0791bb06e7c'\n",
    "KEY = '<e7a9762dabfdc186e180a0791bb06e7c>'\n",
    "\n",
    "IMG_PATTERN = 'http://api.themoviedb.org/3/movie/tt4154756/images?api_key=e7a9762dabfdc186e180a0791bb06e7c' \n",
    "r = requests.get(IMG_PATTERN.format(key=KEY,imdbid='tt4154756'))\n",
    "api_response = r.json()"
   ]
  },
  {
   "cell_type": "code",
   "execution_count": null,
   "metadata": {
    "collapsed": true
   },
   "outputs": [],
   "source": []
  }
 ],
 "metadata": {
  "kernelspec": {
   "display_name": "Python 3",
   "language": "python",
   "name": "python3"
  },
  "language_info": {
   "codemirror_mode": {
    "name": "ipython",
    "version": 3
   },
   "file_extension": ".py",
   "mimetype": "text/x-python",
   "name": "python",
   "nbconvert_exporter": "python",
   "pygments_lexer": "ipython3",
   "version": "3.6.1"
  }
 },
 "nbformat": 4,
 "nbformat_minor": 2
}
