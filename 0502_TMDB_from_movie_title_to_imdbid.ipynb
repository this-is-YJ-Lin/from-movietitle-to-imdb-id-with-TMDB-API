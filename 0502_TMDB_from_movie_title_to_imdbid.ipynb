{
 "cells": [
  {
   "cell_type": "markdown",
   "metadata": {},
   "source": [
    "requests:\n",
    "<ul>\n",
    "<li>1. search movie detail with movie title\n",
    "    <ul>\n",
    "    <li>https://api.themoviedb.org/3/search/movie?api_key=api_key&query=MOVIE+TITLE\n",
    "    </li>\n",
    "    </ul>\n",
    "<li>2. get imdb id \n",
    "    <ul>\n",
    "    <li>https://api.themoviedb.org/3/movie/TMDBid?api_key=api_key\n",
    "    </li>\n",
    "    </ul>\n",
    "</ul>\n",
    "<h1>Some function have updated in recently... </h1>\n",
    "<ul>\n",
    "    <li>\n",
    "    <p>5/3: try-exception (for )</p>\n",
    "    </li>\n",
    "    <li>\n",
    "    <p>5/1: find the specified value in lost</p>\n",
    "    </li>\n",
    "</ul>\n",
    "<h1>Some bugs still need to fix it...</h1>\n",
    "<ul>\n",
    "    <li>\n",
    "    add some conditions for choose the result\n",
    "    </li>\n",
    "</ul>"
   ]
  },
  {
   "cell_type": "code",
   "execution_count": null,
   "metadata": {},
   "outputs": [],
   "source": [
    "try:\n",
    "    raise Exception('Oh no!产生了一个异常!')\n",
    "except Exception, e:\n",
    "    print '发生了一个错误: %s, 你可以在这里删除错误的文档' % e\n",
    "finally:\n",
    "    print '这里无论是否发生异常, 都会执行'\n",
    "else:\n",
    "    print '在没有发生异常时执行'\n"
   ]
  },
  {
   "cell_type": "code",
   "execution_count": 82,
   "metadata": {
    "scrolled": false
   },
   "outputs": [
    {
     "name": "stdout",
     "output_type": "stream",
     "text": [
      "---STAR---\n",
      "ready to get IMDb id from file...\n",
      "sucess\n",
      "2001 : \n",
      "title:  The Messenger\n",
      "IMDb ID:  tt0790712\n",
      "Runtime:  113\n",
      "Budget:  6500000\n",
      "\n",
      "' 2002 ' can not be searched, need to modify.\n",
      "2003 : \n",
      "title:  The Road\n",
      "IMDb ID:  tt0898367\n",
      "Runtime:  111\n",
      "Budget:  32000000\n",
      "\n",
      "---FINISH---\n"
     ]
    }
   ],
   "source": [
    "import requests\n",
    "import csv\n",
    "def get_title_from_file(address):\n",
    "    f= open(address, encoding = 'utf8')#讀所有詞\n",
    "    s = f.read()\n",
    "    #print(s)\n",
    "    spilt_s = s.split(\"\\n\")\n",
    "    return spilt_s\n",
    "\n",
    "print('---STAR---')\n",
    "print('ready to get IMDb id from file...')\n",
    "list_of_movie_title = get_title_from_file('16598title_movies.txt')\n",
    "print('sucess')\n",
    "\n",
    "# setting config\n",
    "CONFIG_PATTERN = 'https://api.themoviedb.org/3/authentication/token/new?api_key=e7a9762dabfdc186e180a0791bb06e7c'\n",
    "KEY = '<e7a9762dabfdc186e180a0791bb06e7c>'\n",
    "\n",
    "\n",
    "error_list = []\n",
    "with open( 'x2000_all_movies_imdb_id.csv', 'w' , encoding='UTF-8', newline='') as csv_file:\n",
    "    csv_writer = csv.writer(csv_file)\n",
    "    fileHeader = ['num', 'imdb_id', 'runtime',  'budget']\n",
    "    csv_writer.writerow(fileHeader)\n",
    "    for title_num in range(2001, 2004):\n",
    "        try:\n",
    "            pre_metadata_PATTERN = 'https://api.themoviedb.org/3/search/movie?api_key=e7a9762dabfdc186e180a0791bb06e7c&query=' + list_of_movie_title[title_num] \n",
    "            pre_results = requests.get(pre_metadata_PATTERN.format(key=KEY))\n",
    "            search_api_response = pre_results.json()\n",
    "            tmdb_id = search_api_response['results'][0]['id']\n",
    "            tmdb_id = str(tmdb_id)\n",
    "            \n",
    "            #get imdb id \n",
    "            offic_metadata_PATTERN = 'https://api.themoviedb.org/3/movie/'+ tmdb_id +'?api_key=e7a9762dabfdc186e180a0791bb06e7c' \n",
    "            offic_results = requests.get(offic_metadata_PATTERN.format(key=KEY))\n",
    "            imdb_api_response = offic_results.json()\n",
    "            print(title_num, ': ')\n",
    "            print('title: ',imdb_api_response['title'])\n",
    "            print('IMDb ID: ',imdb_api_response['imdb_id'])\n",
    "            print('Runtime: ',imdb_api_response['runtime'])\n",
    "            print('Budget: ',imdb_api_response['budget'])\n",
    "            csv_writer.writerow([title_num, imdb_api_response['imdb_id'], imdb_api_response['runtime'], imdb_api_response['budget']])\n",
    "            print()\n",
    "        except IndexError:\n",
    "            error_element = title_num\n",
    "            error_list.append(error_element)\n",
    "            print(\"'\", title_num ,\"' can not be searched, need to modify.\")\n",
    "            print()\n",
    "    \n",
    "print('---FINISH---')"
   ]
  },
  {
   "cell_type": "code",
   "execution_count": 83,
   "metadata": {},
   "outputs": [
    {
     "data": {
      "text/plain": [
       "[2002]"
      ]
     },
     "execution_count": 83,
     "metadata": {},
     "output_type": "execute_result"
    }
   ],
   "source": [
    "error_list"
   ]
  },
  {
   "cell_type": "code",
   "execution_count": 79,
   "metadata": {
    "scrolled": false
   },
   "outputs": [
    {
     "name": "stdout",
     "output_type": "stream",
     "text": [
      "---STAR---\n",
      "ready to get IMDb id from file...\n",
      "sucess\n",
      "2001 : \n",
      "title:  The Messenger\n",
      "IMDb ID:  tt0790712\n",
      "Runtime:  113\n",
      "Budget:  6500000\n",
      "\n"
     ]
    },
    {
     "ename": "IndexError",
     "evalue": "list index out of range",
     "output_type": "error",
     "traceback": [
      "\u001b[0;31m---------------------------------------------------------------------------\u001b[0m",
      "\u001b[0;31mIndexError\u001b[0m                                Traceback (most recent call last)",
      "\u001b[0;32m<ipython-input-79-9dec75f7fde4>\u001b[0m in \u001b[0;36m<module>\u001b[0;34m()\u001b[0m\n\u001b[1;32m     26\u001b[0m         \u001b[0mpre_results\u001b[0m \u001b[0;34m=\u001b[0m \u001b[0mrequests\u001b[0m\u001b[0;34m.\u001b[0m\u001b[0mget\u001b[0m\u001b[0;34m(\u001b[0m\u001b[0mpre_metadata_PATTERN\u001b[0m\u001b[0;34m.\u001b[0m\u001b[0mformat\u001b[0m\u001b[0;34m(\u001b[0m\u001b[0mkey\u001b[0m\u001b[0;34m=\u001b[0m\u001b[0mKEY\u001b[0m\u001b[0;34m)\u001b[0m\u001b[0;34m)\u001b[0m\u001b[0;34m\u001b[0m\u001b[0m\n\u001b[1;32m     27\u001b[0m         \u001b[0msearch_api_response\u001b[0m \u001b[0;34m=\u001b[0m \u001b[0mpre_results\u001b[0m\u001b[0;34m.\u001b[0m\u001b[0mjson\u001b[0m\u001b[0;34m(\u001b[0m\u001b[0;34m)\u001b[0m\u001b[0;34m\u001b[0m\u001b[0m\n\u001b[0;32m---> 28\u001b[0;31m         \u001b[0mtmdb_id\u001b[0m \u001b[0;34m=\u001b[0m \u001b[0msearch_api_response\u001b[0m\u001b[0;34m[\u001b[0m\u001b[0;34m'results'\u001b[0m\u001b[0;34m]\u001b[0m\u001b[0;34m[\u001b[0m\u001b[0;36m0\u001b[0m\u001b[0;34m]\u001b[0m\u001b[0;34m[\u001b[0m\u001b[0;34m'id'\u001b[0m\u001b[0;34m]\u001b[0m\u001b[0;34m\u001b[0m\u001b[0m\n\u001b[0m\u001b[1;32m     29\u001b[0m         \u001b[0mtmdb_id\u001b[0m \u001b[0;34m=\u001b[0m \u001b[0mstr\u001b[0m\u001b[0;34m(\u001b[0m\u001b[0mtmdb_id\u001b[0m\u001b[0;34m)\u001b[0m\u001b[0;34m\u001b[0m\u001b[0m\n\u001b[1;32m     30\u001b[0m \u001b[0;34m\u001b[0m\u001b[0m\n",
      "\u001b[0;31mIndexError\u001b[0m: list index out of range"
     ]
    }
   ],
   "source": [
    "import requests\n",
    "import csv\n",
    "def get_title_from_file(address):\n",
    "    f= open(address, encoding = 'utf8')#讀所有詞\n",
    "    s = f.read()\n",
    "    #print(s)\n",
    "    spilt_s = s.split(\"\\n\")\n",
    "    return spilt_s\n",
    "\n",
    "print('---STAR---')\n",
    "print('ready to get IMDb id from file...')\n",
    "list_of_movie_title = get_title_from_file('16598title_movies.txt')\n",
    "print('sucess')\n",
    "\n",
    "# setting config\n",
    "CONFIG_PATTERN = 'https://api.themoviedb.org/3/authentication/token/new?api_key=e7a9762dabfdc186e180a0791bb06e7c'\n",
    "KEY = '<e7a9762dabfdc186e180a0791bb06e7c>'\n",
    "\n",
    "with open( '2001_all_movies_imdb_id.csv', 'w' , encoding='UTF-8', newline='') as csv_file:\n",
    "    csv_writer = csv.writer(csv_file)\n",
    "    fileHeader = ['num', 'imdb_id', 'runtime',  'budget']\n",
    "    csv_writer.writerow(fileHeader) \n",
    "    for title_num in range(2001, 10000):\n",
    "        #search movie detail with movie title\n",
    "        pre_metadata_PATTERN = 'https://api.themoviedb.org/3/search/movie?api_key=e7a9762dabfdc186e180a0791bb06e7c&query=' + list_of_movie_title[title_num] \n",
    "        pre_results = requests.get(pre_metadata_PATTERN.format(key=KEY))\n",
    "        search_api_response = pre_results.json()\n",
    "        tmdb_id = search_api_response['results'][0]['id']\n",
    "        tmdb_id = str(tmdb_id)\n",
    "\n",
    "        #get imdb id \n",
    "        offic_metadata_PATTERN = 'https://api.themoviedb.org/3/movie/'+ tmdb_id +'?api_key=e7a9762dabfdc186e180a0791bb06e7c' \n",
    "        offic_results = requests.get(offic_metadata_PATTERN.format(key=KEY))\n",
    "        imdb_api_response = offic_results.json()\n",
    "        print(title_num, ': ')\n",
    "        print('title: ',imdb_api_response['title'])\n",
    "        print('IMDb ID: ',imdb_api_response['imdb_id'])\n",
    "        print('Runtime: ',imdb_api_response['runtime'])\n",
    "        print('Budget: ',imdb_api_response['budget'])\n",
    "        csv_writer.writerow([title_num, imdb_api_response['imdb_id'], imdb_api_response['runtime'], imdb_api_response['budget']])\n",
    "        print()\n",
    "    \n",
    "print('---FINISH---')"
   ]
  },
  {
   "cell_type": "markdown",
   "metadata": {},
   "source": [
    "<div style=\"text-align:center;\"><h1>--------------------------------------------------------------------</h1></div>"
   ]
  },
  {
   "cell_type": "code",
   "execution_count": 44,
   "metadata": {
    "scrolled": true
   },
   "outputs": [
    {
     "data": {
      "text/plain": [
       "{'page': 1,\n",
       " 'results': [{'adult': False,\n",
       "   'backdrop_path': None,\n",
       "   'genre_ids': [99],\n",
       "   'id': 520558,\n",
       "   'original_language': 'en',\n",
       "   'original_title': 'Love & Bananas: An Elephant Story',\n",
       "   'overview': 'Ashley Bell and a team of elephant rescuers led by world renowned Asian elephant conservationist Lek Chailert, embark on a daring 48-hour mission across Thailand to rescue a 70-year old captive blind Asian elephant and bring her to freedom.',\n",
       "   'popularity': 3.8,\n",
       "   'poster_path': '/7YEcTAqPsZPe0ownh4RVwJYj1em.jpg',\n",
       "   'release_date': '2018-04-22',\n",
       "   'title': 'Love & Bananas: An Elephant Story',\n",
       "   'video': False,\n",
       "   'vote_average': 0,\n",
       "   'vote_count': 0},\n",
       "  {'adult': False,\n",
       "   'backdrop_path': '/l7yrTK8n1h6u8IlKdtK39AWMQ5x.jpg',\n",
       "   'genre_ids': [14, 35, 10751, 12],\n",
       "   'id': 12129,\n",
       "   'original_language': 'en',\n",
       "   'original_title': 'Herbie Goes Bananas',\n",
       "   'overview': 'The adorable little VW helps its owners break up a counterfeiting ring in Mexico.',\n",
       "   'popularity': 6.230938,\n",
       "   'poster_path': '/wopSyv8aYHpoAYyJtU5pwwvRsgW.jpg',\n",
       "   'release_date': '1980-06-25',\n",
       "   'title': 'Herbie Goes Bananas',\n",
       "   'video': False,\n",
       "   'vote_average': 5.1,\n",
       "   'vote_count': 60}],\n",
       " 'total_pages': 1,\n",
       " 'total_results': 2}"
      ]
     },
     "execution_count": 44,
     "metadata": {},
     "output_type": "execute_result"
    }
   ],
   "source": [
    "pre_metadata_PATTERN = 'https://api.themoviedb.org/3/search/movie?api_key=e7a9762dabfdc186e180a0791bb06e7c&query=Love Bananas' \n",
    "pre_results = requests.get(pre_metadata_PATTERN.format(key=KEY))\n",
    "search_api_response = pre_results.json()\n",
    "search_api_response\n",
    "#tmdb_id = search_api_response['results'][0]['id']\n",
    "#tmdb_id = str(tmdb_id)"
   ]
  },
  {
   "cell_type": "code",
   "execution_count": 47,
   "metadata": {},
   "outputs": [
    {
     "data": {
      "text/plain": [
       "'tt5164432'"
      ]
     },
     "execution_count": 47,
     "metadata": {},
     "output_type": "execute_result"
    }
   ],
   "source": [
    "import requests\n",
    "\n",
    "# setting config\n",
    "CONFIG_PATTERN = 'https://api.themoviedb.org/3/authentication/token/new?api_key=e7a9762dabfdc186e180a0791bb06e7c'\n",
    "KEY = '<e7a9762dabfdc186e180a0791bb06e7c>'\n",
    "\n",
    "#search movie detail with movie title\n",
    "pre_metadata_PATTERN = 'https://api.themoviedb.org/3/search/movie?api_key=e7a9762dabfdc186e180a0791bb06e7c&query=Love & Bananas' \n",
    "pre_results = requests.get(pre_metadata_PATTERN.format(key=KEY))\n",
    "search_api_response = pre_results.json()\n",
    "tmdb_id = search_api_response['results'][0]['id']\n",
    "tmdb_id = str(tmdb_id)\n",
    "\n",
    "#get imdb id \n",
    "offic_metadata_PATTERN = 'https://api.themoviedb.org/3/movie/'+ tmdb_id +'?api_key=e7a9762dabfdc186e180a0791bb06e7c' \n",
    "offic_results = requests.get(offic_metadata_PATTERN.format(key=KEY))\n",
    "imdb_api_response = offic_results.json()\n",
    "imdb_api_response['imdb_id']"
   ]
  },
  {
   "cell_type": "code",
   "execution_count": 69,
   "metadata": {
    "collapsed": true
   },
   "outputs": [],
   "source": [
    "import requests\n",
    "CONFIG_PATTERN = 'https://api.themoviedb.org/3/authentication/token/new?api_key=e7a9762dabfdc186e180a0791bb06e7c'\n",
    "KEY = '<e7a9762dabfdc186e180a0791bb06e7c>'\n",
    "matadata_PATTERN = 'https://api.themoviedb.org/3/search/movie?api_key=e7a9762dabfdc186e180a0791bb06e7c&query=Hoodwinked Too! Hood vs. Evil' \n",
    "re = requests.get(matadata_PATTERN.format(key=KEY))\n",
    "api_response = re.json()"
   ]
  },
  {
   "cell_type": "code",
   "execution_count": 70,
   "metadata": {
    "scrolled": true
   },
   "outputs": [
    {
     "data": {
      "text/plain": [
       "{'page': 1,\n",
       " 'results': [{'adult': False,\n",
       "   'backdrop_path': '/32Jory70ZxHp2q14J2f7eNnyhLe.jpg',\n",
       "   'genre_ids': [35, 16, 10751],\n",
       "   'id': 57089,\n",
       "   'original_language': 'en',\n",
       "   'original_title': 'Hoodwinked Too! Hood VS. Evil',\n",
       "   'overview': 'Red Riding Hood is training in the group of Sister Hoods, when she and the Wolf are called to examine the sudden mysterious disappearance of Hansel and Gretel.',\n",
       "   'popularity': 7.696393,\n",
       "   'poster_path': '/1Ldl7ji0iTlGePh09RU4bopkwSG.jpg',\n",
       "   'release_date': '2011-04-29',\n",
       "   'title': 'Hoodwinked Too! Hood VS. Evil',\n",
       "   'video': False,\n",
       "   'vote_average': 4.7,\n",
       "   'vote_count': 171}],\n",
       " 'total_pages': 1,\n",
       " 'total_results': 1}"
      ]
     },
     "execution_count": 70,
     "metadata": {},
     "output_type": "execute_result"
    }
   ],
   "source": [
    "api_response"
   ]
  },
  {
   "cell_type": "code",
   "execution_count": 26,
   "metadata": {},
   "outputs": [
    {
     "data": {
      "text/plain": [
       "'29595'"
      ]
     },
     "execution_count": 26,
     "metadata": {},
     "output_type": "execute_result"
    }
   ],
   "source": [
    "tmdb_id = api_response['results'][0]['id']\n",
    "tmdb_id = str(tmdb_id)\n",
    "tmdb_id"
   ]
  },
  {
   "cell_type": "code",
   "execution_count": 27,
   "metadata": {
    "collapsed": true
   },
   "outputs": [],
   "source": [
    "import requests\n",
    "CONFIG_PATTERN = 'https://api.themoviedb.org/3/authentication/token/new?api_key=e7a9762dabfdc186e180a0791bb06e7c'\n",
    "KEY = '<e7a9762dabfdc186e180a0791bb06e7c>'\n",
    "matadata_PATTERN = 'https://api.themoviedb.org/3/movie/'+ tmdb_id +'?api_key=e7a9762dabfdc186e180a0791bb06e7c' \n",
    "re = requests.get(matadata_PATTERN.format(key=KEY))\n",
    "api_response = re.json()"
   ]
  },
  {
   "cell_type": "code",
   "execution_count": 28,
   "metadata": {},
   "outputs": [
    {
     "data": {
      "text/plain": [
       "'tt0473107'"
      ]
     },
     "execution_count": 28,
     "metadata": {},
     "output_type": "execute_result"
    }
   ],
   "source": [
    "api_response['imdb_id']"
   ]
  },
  {
   "cell_type": "code",
   "execution_count": 3,
   "metadata": {
    "collapsed": true
   },
   "outputs": [],
   "source": [
    "import requests\n",
    "CONFIG_PATTERN = 'https://api.themoviedb.org/3/authentication/token/new?api_key=e7a9762dabfdc186e180a0791bb06e7c'\n",
    "KEY = '<e7a9762dabfdc186e180a0791bb06e7c>'\n",
    "\n",
    "IMG_PATTERN = 'http://api.themoviedb.org/3/movie/tt4154756/images?api_key=e7a9762dabfdc186e180a0791bb06e7c' \n",
    "r = requests.get(IMG_PATTERN.format(key=KEY,imdbid='tt4154756'))\n",
    "api_response = r.json()"
   ]
  },
  {
   "cell_type": "code",
   "execution_count": 61,
   "metadata": {},
   "outputs": [
    {
     "data": {
      "text/plain": [
       "{'adult': False,\n",
       " 'backdrop_path': '/uuQpQ8VDOtVL2IO4y2pR58odkS5.jpg',\n",
       " 'belongs_to_collection': None,\n",
       " 'budget': 33000000,\n",
       " 'genres': [{'id': 18, 'name': 'Drama'},\n",
       "  {'id': 27, 'name': 'Horror'},\n",
       "  {'id': 9648, 'name': 'Mystery'}],\n",
       " 'homepage': None,\n",
       " 'id': 381283,\n",
       " 'imdb_id': 'tt5109784',\n",
       " 'original_language': 'en',\n",
       " 'original_title': 'mother!',\n",
       " 'overview': \"A couple's relationship is tested when uninvited guests arrive at their home, disrupting their tranquil existence.\",\n",
       " 'popularity': 22.755127,\n",
       " 'poster_path': '/2yOKarmL8B4oXaLXUdHu882SUbu.jpg',\n",
       " 'production_companies': [{'id': 7503,\n",
       "   'logo_path': None,\n",
       "   'name': 'Protozoa Pictures',\n",
       "   'origin_country': ''}],\n",
       " 'production_countries': [{'iso_3166_1': 'US',\n",
       "   'name': 'United States of America'}],\n",
       " 'release_date': '2017-09-13',\n",
       " 'revenue': 34820846,\n",
       " 'runtime': 121,\n",
       " 'spoken_languages': [{'iso_639_1': 'en', 'name': 'English'}],\n",
       " 'status': 'Released',\n",
       " 'tagline': 'Seeing is believing',\n",
       " 'title': 'mother!',\n",
       " 'video': False,\n",
       " 'vote_average': 7.0,\n",
       " 'vote_count': 1873}"
      ]
     },
     "execution_count": 61,
     "metadata": {},
     "output_type": "execute_result"
    }
   ],
   "source": [
    "api_response"
   ]
  },
  {
   "cell_type": "code",
   "execution_count": null,
   "metadata": {
    "collapsed": true
   },
   "outputs": [],
   "source": []
  }
 ],
 "metadata": {
  "kernelspec": {
   "display_name": "Python 3",
   "language": "python",
   "name": "python3"
  },
  "language_info": {
   "codemirror_mode": {
    "name": "ipython",
    "version": 3
   },
   "file_extension": ".py",
   "mimetype": "text/x-python",
   "name": "python",
   "nbconvert_exporter": "python",
   "pygments_lexer": "ipython3",
   "version": "3.6.1"
  }
 },
 "nbformat": 4,
 "nbformat_minor": 2
}
