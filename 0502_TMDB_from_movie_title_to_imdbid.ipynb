{
 "cells": [
  {
   "cell_type": "markdown",
   "metadata": {},
   "source": [
    "requests:\n",
    "<ul>\n",
    "<li>1. search movie detail with movie title\n",
    "    <ul>\n",
    "    <li>https://api.themoviedb.org/3/search/movie?api_key=api_key&query=MOVIE+TITLE\n",
    "    </li>\n",
    "    </ul>\n",
    "<li>2. get imdb id \n",
    "    <ul>\n",
    "    <li>https://api.themoviedb.org/3/movie/TMDBid?api_key=api_key\n",
    "    </li>\n",
    "    </ul>\n",
    "</ul>\n",
    "\n",
    "<h1>Some bugs still need to fix it...</h1>\n",
    "<ul>\n",
    "    <li>\n",
    "    <p>& problem</p>\n",
    "    </li>\n",
    "    <li>\n",
    "    add some conditions for choose the result\n",
    "    </li>\n",
    "</ul>"
   ]
  },
  {
   "cell_type": "code",
   "execution_count": 34,
   "metadata": {
    "scrolled": true
   },
   "outputs": [
    {
     "name": "stdout",
     "output_type": "stream",
     "text": [
      "---STAR---\n",
      "ready to get IMDb id from file...\n",
      "sucess\n",
      "0 : \n",
      "title:  Black Panther\n",
      "IMDb ID:  tt1825683\n",
      "Runtime:  134\n",
      "Budget:  200000000\n",
      "\n",
      "1 : \n",
      "title:  Baby Driver\n",
      "IMDb ID:  tt3890160\n",
      "Runtime:  113\n",
      "Budget:  34000000\n",
      "\n",
      "2 : \n",
      "title:  Downsizing\n",
      "IMDb ID:  tt1389072\n",
      "Runtime:  135\n",
      "Budget:  68000000\n",
      "\n",
      "3 : \n",
      "title:  The Dark Tower\n",
      "IMDb ID:  tt1648190\n",
      "Runtime:  95\n",
      "Budget:  60000000\n",
      "\n",
      "4 : \n",
      "title:  Coco\n",
      "IMDb ID:  tt2380307\n",
      "Runtime:  105\n",
      "Budget:  175000000\n",
      "\n"
     ]
    },
    {
     "ename": "KeyboardInterrupt",
     "evalue": "",
     "output_type": "error",
     "traceback": [
      "\u001b[0;31m---------------------------------------------------------------------------\u001b[0m",
      "\u001b[0;31mKeyboardInterrupt\u001b[0m                         Traceback (most recent call last)",
      "\u001b[0;32m<ipython-input-34-d5fd871929d3>\u001b[0m in \u001b[0;36m<module>\u001b[0;34m()\u001b[0m\n\u001b[1;32m     31\u001b[0m         \u001b[0;31m#get imdb id\u001b[0m\u001b[0;34m\u001b[0m\u001b[0;34m\u001b[0m\u001b[0m\n\u001b[1;32m     32\u001b[0m         \u001b[0moffic_metadata_PATTERN\u001b[0m \u001b[0;34m=\u001b[0m \u001b[0;34m'https://api.themoviedb.org/3/movie/'\u001b[0m\u001b[0;34m+\u001b[0m \u001b[0mtmdb_id\u001b[0m \u001b[0;34m+\u001b[0m\u001b[0;34m'?api_key=e7a9762dabfdc186e180a0791bb06e7c'\u001b[0m\u001b[0;34m\u001b[0m\u001b[0m\n\u001b[0;32m---> 33\u001b[0;31m         \u001b[0moffic_results\u001b[0m \u001b[0;34m=\u001b[0m \u001b[0mrequests\u001b[0m\u001b[0;34m.\u001b[0m\u001b[0mget\u001b[0m\u001b[0;34m(\u001b[0m\u001b[0moffic_metadata_PATTERN\u001b[0m\u001b[0;34m.\u001b[0m\u001b[0mformat\u001b[0m\u001b[0;34m(\u001b[0m\u001b[0mkey\u001b[0m\u001b[0;34m=\u001b[0m\u001b[0mKEY\u001b[0m\u001b[0;34m)\u001b[0m\u001b[0;34m)\u001b[0m\u001b[0;34m\u001b[0m\u001b[0m\n\u001b[0m\u001b[1;32m     34\u001b[0m         \u001b[0mimdb_api_response\u001b[0m \u001b[0;34m=\u001b[0m \u001b[0moffic_results\u001b[0m\u001b[0;34m.\u001b[0m\u001b[0mjson\u001b[0m\u001b[0;34m(\u001b[0m\u001b[0;34m)\u001b[0m\u001b[0;34m\u001b[0m\u001b[0m\n\u001b[1;32m     35\u001b[0m         \u001b[0mprint\u001b[0m\u001b[0;34m(\u001b[0m\u001b[0mtitle_num\u001b[0m\u001b[0;34m,\u001b[0m \u001b[0;34m': '\u001b[0m\u001b[0;34m)\u001b[0m\u001b[0;34m\u001b[0m\u001b[0m\n",
      "\u001b[0;32m/Users/linyujing/anaconda/lib/python3.6/site-packages/requests/api.py\u001b[0m in \u001b[0;36mget\u001b[0;34m(url, params, **kwargs)\u001b[0m\n\u001b[1;32m     70\u001b[0m \u001b[0;34m\u001b[0m\u001b[0m\n\u001b[1;32m     71\u001b[0m     \u001b[0mkwargs\u001b[0m\u001b[0;34m.\u001b[0m\u001b[0msetdefault\u001b[0m\u001b[0;34m(\u001b[0m\u001b[0;34m'allow_redirects'\u001b[0m\u001b[0;34m,\u001b[0m \u001b[0;32mTrue\u001b[0m\u001b[0;34m)\u001b[0m\u001b[0;34m\u001b[0m\u001b[0m\n\u001b[0;32m---> 72\u001b[0;31m     \u001b[0;32mreturn\u001b[0m \u001b[0mrequest\u001b[0m\u001b[0;34m(\u001b[0m\u001b[0;34m'get'\u001b[0m\u001b[0;34m,\u001b[0m \u001b[0murl\u001b[0m\u001b[0;34m,\u001b[0m \u001b[0mparams\u001b[0m\u001b[0;34m=\u001b[0m\u001b[0mparams\u001b[0m\u001b[0;34m,\u001b[0m \u001b[0;34m**\u001b[0m\u001b[0mkwargs\u001b[0m\u001b[0;34m)\u001b[0m\u001b[0;34m\u001b[0m\u001b[0m\n\u001b[0m\u001b[1;32m     73\u001b[0m \u001b[0;34m\u001b[0m\u001b[0m\n\u001b[1;32m     74\u001b[0m \u001b[0;34m\u001b[0m\u001b[0m\n",
      "\u001b[0;32m/Users/linyujing/anaconda/lib/python3.6/site-packages/requests/api.py\u001b[0m in \u001b[0;36mrequest\u001b[0;34m(method, url, **kwargs)\u001b[0m\n\u001b[1;32m     56\u001b[0m     \u001b[0;31m# cases, and look like a memory leak in others.\u001b[0m\u001b[0;34m\u001b[0m\u001b[0;34m\u001b[0m\u001b[0m\n\u001b[1;32m     57\u001b[0m     \u001b[0;32mwith\u001b[0m \u001b[0msessions\u001b[0m\u001b[0;34m.\u001b[0m\u001b[0mSession\u001b[0m\u001b[0;34m(\u001b[0m\u001b[0;34m)\u001b[0m \u001b[0;32mas\u001b[0m \u001b[0msession\u001b[0m\u001b[0;34m:\u001b[0m\u001b[0;34m\u001b[0m\u001b[0m\n\u001b[0;32m---> 58\u001b[0;31m         \u001b[0;32mreturn\u001b[0m \u001b[0msession\u001b[0m\u001b[0;34m.\u001b[0m\u001b[0mrequest\u001b[0m\u001b[0;34m(\u001b[0m\u001b[0mmethod\u001b[0m\u001b[0;34m=\u001b[0m\u001b[0mmethod\u001b[0m\u001b[0;34m,\u001b[0m \u001b[0murl\u001b[0m\u001b[0;34m=\u001b[0m\u001b[0murl\u001b[0m\u001b[0;34m,\u001b[0m \u001b[0;34m**\u001b[0m\u001b[0mkwargs\u001b[0m\u001b[0;34m)\u001b[0m\u001b[0;34m\u001b[0m\u001b[0m\n\u001b[0m\u001b[1;32m     59\u001b[0m \u001b[0;34m\u001b[0m\u001b[0m\n\u001b[1;32m     60\u001b[0m \u001b[0;34m\u001b[0m\u001b[0m\n",
      "\u001b[0;32m/Users/linyujing/anaconda/lib/python3.6/site-packages/requests/sessions.py\u001b[0m in \u001b[0;36mrequest\u001b[0;34m(self, method, url, params, data, headers, cookies, files, auth, timeout, allow_redirects, proxies, hooks, stream, verify, cert, json)\u001b[0m\n\u001b[1;32m    506\u001b[0m         }\n\u001b[1;32m    507\u001b[0m         \u001b[0msend_kwargs\u001b[0m\u001b[0;34m.\u001b[0m\u001b[0mupdate\u001b[0m\u001b[0;34m(\u001b[0m\u001b[0msettings\u001b[0m\u001b[0;34m)\u001b[0m\u001b[0;34m\u001b[0m\u001b[0m\n\u001b[0;32m--> 508\u001b[0;31m         \u001b[0mresp\u001b[0m \u001b[0;34m=\u001b[0m \u001b[0mself\u001b[0m\u001b[0;34m.\u001b[0m\u001b[0msend\u001b[0m\u001b[0;34m(\u001b[0m\u001b[0mprep\u001b[0m\u001b[0;34m,\u001b[0m \u001b[0;34m**\u001b[0m\u001b[0msend_kwargs\u001b[0m\u001b[0;34m)\u001b[0m\u001b[0;34m\u001b[0m\u001b[0m\n\u001b[0m\u001b[1;32m    509\u001b[0m \u001b[0;34m\u001b[0m\u001b[0m\n\u001b[1;32m    510\u001b[0m         \u001b[0;32mreturn\u001b[0m \u001b[0mresp\u001b[0m\u001b[0;34m\u001b[0m\u001b[0m\n",
      "\u001b[0;32m/Users/linyujing/anaconda/lib/python3.6/site-packages/requests/sessions.py\u001b[0m in \u001b[0;36msend\u001b[0;34m(self, request, **kwargs)\u001b[0m\n\u001b[1;32m    616\u001b[0m \u001b[0;34m\u001b[0m\u001b[0m\n\u001b[1;32m    617\u001b[0m         \u001b[0;31m# Send the request\u001b[0m\u001b[0;34m\u001b[0m\u001b[0;34m\u001b[0m\u001b[0m\n\u001b[0;32m--> 618\u001b[0;31m         \u001b[0mr\u001b[0m \u001b[0;34m=\u001b[0m \u001b[0madapter\u001b[0m\u001b[0;34m.\u001b[0m\u001b[0msend\u001b[0m\u001b[0;34m(\u001b[0m\u001b[0mrequest\u001b[0m\u001b[0;34m,\u001b[0m \u001b[0;34m**\u001b[0m\u001b[0mkwargs\u001b[0m\u001b[0;34m)\u001b[0m\u001b[0;34m\u001b[0m\u001b[0m\n\u001b[0m\u001b[1;32m    619\u001b[0m \u001b[0;34m\u001b[0m\u001b[0m\n\u001b[1;32m    620\u001b[0m         \u001b[0;31m# Total elapsed time of the request (approximately)\u001b[0m\u001b[0;34m\u001b[0m\u001b[0;34m\u001b[0m\u001b[0m\n",
      "\u001b[0;32m/Users/linyujing/anaconda/lib/python3.6/site-packages/requests/adapters.py\u001b[0m in \u001b[0;36msend\u001b[0;34m(self, request, stream, timeout, verify, cert, proxies)\u001b[0m\n\u001b[1;32m    438\u001b[0m                     \u001b[0mdecode_content\u001b[0m\u001b[0;34m=\u001b[0m\u001b[0;32mFalse\u001b[0m\u001b[0;34m,\u001b[0m\u001b[0;34m\u001b[0m\u001b[0m\n\u001b[1;32m    439\u001b[0m                     \u001b[0mretries\u001b[0m\u001b[0;34m=\u001b[0m\u001b[0mself\u001b[0m\u001b[0;34m.\u001b[0m\u001b[0mmax_retries\u001b[0m\u001b[0;34m,\u001b[0m\u001b[0;34m\u001b[0m\u001b[0m\n\u001b[0;32m--> 440\u001b[0;31m                     \u001b[0mtimeout\u001b[0m\u001b[0;34m=\u001b[0m\u001b[0mtimeout\u001b[0m\u001b[0;34m\u001b[0m\u001b[0m\n\u001b[0m\u001b[1;32m    441\u001b[0m                 )\n\u001b[1;32m    442\u001b[0m \u001b[0;34m\u001b[0m\u001b[0m\n",
      "\u001b[0;32m/Users/linyujing/anaconda/lib/python3.6/site-packages/urllib3/connectionpool.py\u001b[0m in \u001b[0;36murlopen\u001b[0;34m(self, method, url, body, headers, retries, redirect, assert_same_host, timeout, pool_timeout, release_conn, chunked, body_pos, **response_kw)\u001b[0m\n\u001b[1;32m    599\u001b[0m                                                   \u001b[0mtimeout\u001b[0m\u001b[0;34m=\u001b[0m\u001b[0mtimeout_obj\u001b[0m\u001b[0;34m,\u001b[0m\u001b[0;34m\u001b[0m\u001b[0m\n\u001b[1;32m    600\u001b[0m                                                   \u001b[0mbody\u001b[0m\u001b[0;34m=\u001b[0m\u001b[0mbody\u001b[0m\u001b[0;34m,\u001b[0m \u001b[0mheaders\u001b[0m\u001b[0;34m=\u001b[0m\u001b[0mheaders\u001b[0m\u001b[0;34m,\u001b[0m\u001b[0;34m\u001b[0m\u001b[0m\n\u001b[0;32m--> 601\u001b[0;31m                                                   chunked=chunked)\n\u001b[0m\u001b[1;32m    602\u001b[0m \u001b[0;34m\u001b[0m\u001b[0m\n\u001b[1;32m    603\u001b[0m             \u001b[0;31m# If we're going to release the connection in ``finally:``, then\u001b[0m\u001b[0;34m\u001b[0m\u001b[0;34m\u001b[0m\u001b[0m\n",
      "\u001b[0;32m/Users/linyujing/anaconda/lib/python3.6/site-packages/urllib3/connectionpool.py\u001b[0m in \u001b[0;36m_make_request\u001b[0;34m(self, conn, method, url, timeout, chunked, **httplib_request_kw)\u001b[0m\n\u001b[1;32m    344\u001b[0m         \u001b[0;31m# Trigger any extra validation we need to do.\u001b[0m\u001b[0;34m\u001b[0m\u001b[0;34m\u001b[0m\u001b[0m\n\u001b[1;32m    345\u001b[0m         \u001b[0;32mtry\u001b[0m\u001b[0;34m:\u001b[0m\u001b[0;34m\u001b[0m\u001b[0m\n\u001b[0;32m--> 346\u001b[0;31m             \u001b[0mself\u001b[0m\u001b[0;34m.\u001b[0m\u001b[0m_validate_conn\u001b[0m\u001b[0;34m(\u001b[0m\u001b[0mconn\u001b[0m\u001b[0;34m)\u001b[0m\u001b[0;34m\u001b[0m\u001b[0m\n\u001b[0m\u001b[1;32m    347\u001b[0m         \u001b[0;32mexcept\u001b[0m \u001b[0;34m(\u001b[0m\u001b[0mSocketTimeout\u001b[0m\u001b[0;34m,\u001b[0m \u001b[0mBaseSSLError\u001b[0m\u001b[0;34m)\u001b[0m \u001b[0;32mas\u001b[0m \u001b[0me\u001b[0m\u001b[0;34m:\u001b[0m\u001b[0;34m\u001b[0m\u001b[0m\n\u001b[1;32m    348\u001b[0m             \u001b[0;31m# Py2 raises this as a BaseSSLError, Py3 raises it as socket timeout.\u001b[0m\u001b[0;34m\u001b[0m\u001b[0;34m\u001b[0m\u001b[0m\n",
      "\u001b[0;32m/Users/linyujing/anaconda/lib/python3.6/site-packages/urllib3/connectionpool.py\u001b[0m in \u001b[0;36m_validate_conn\u001b[0;34m(self, conn)\u001b[0m\n\u001b[1;32m    848\u001b[0m         \u001b[0;31m# Force connect early to allow us to validate the connection.\u001b[0m\u001b[0;34m\u001b[0m\u001b[0;34m\u001b[0m\u001b[0m\n\u001b[1;32m    849\u001b[0m         \u001b[0;32mif\u001b[0m \u001b[0;32mnot\u001b[0m \u001b[0mgetattr\u001b[0m\u001b[0;34m(\u001b[0m\u001b[0mconn\u001b[0m\u001b[0;34m,\u001b[0m \u001b[0;34m'sock'\u001b[0m\u001b[0;34m,\u001b[0m \u001b[0;32mNone\u001b[0m\u001b[0;34m)\u001b[0m\u001b[0;34m:\u001b[0m  \u001b[0;31m# AppEngine might not have  `.sock`\u001b[0m\u001b[0;34m\u001b[0m\u001b[0m\n\u001b[0;32m--> 850\u001b[0;31m             \u001b[0mconn\u001b[0m\u001b[0;34m.\u001b[0m\u001b[0mconnect\u001b[0m\u001b[0;34m(\u001b[0m\u001b[0;34m)\u001b[0m\u001b[0;34m\u001b[0m\u001b[0m\n\u001b[0m\u001b[1;32m    851\u001b[0m \u001b[0;34m\u001b[0m\u001b[0m\n\u001b[1;32m    852\u001b[0m         \u001b[0;32mif\u001b[0m \u001b[0;32mnot\u001b[0m \u001b[0mconn\u001b[0m\u001b[0;34m.\u001b[0m\u001b[0mis_verified\u001b[0m\u001b[0;34m:\u001b[0m\u001b[0;34m\u001b[0m\u001b[0m\n",
      "\u001b[0;32m/Users/linyujing/anaconda/lib/python3.6/site-packages/urllib3/connection.py\u001b[0m in \u001b[0;36mconnect\u001b[0;34m(self)\u001b[0m\n\u001b[1;32m    324\u001b[0m             \u001b[0mca_cert_dir\u001b[0m\u001b[0;34m=\u001b[0m\u001b[0mself\u001b[0m\u001b[0;34m.\u001b[0m\u001b[0mca_cert_dir\u001b[0m\u001b[0;34m,\u001b[0m\u001b[0;34m\u001b[0m\u001b[0m\n\u001b[1;32m    325\u001b[0m             \u001b[0mserver_hostname\u001b[0m\u001b[0;34m=\u001b[0m\u001b[0mhostname\u001b[0m\u001b[0;34m,\u001b[0m\u001b[0;34m\u001b[0m\u001b[0m\n\u001b[0;32m--> 326\u001b[0;31m             ssl_context=context)\n\u001b[0m\u001b[1;32m    327\u001b[0m \u001b[0;34m\u001b[0m\u001b[0m\n\u001b[1;32m    328\u001b[0m         \u001b[0;32mif\u001b[0m \u001b[0mself\u001b[0m\u001b[0;34m.\u001b[0m\u001b[0massert_fingerprint\u001b[0m\u001b[0;34m:\u001b[0m\u001b[0;34m\u001b[0m\u001b[0m\n",
      "\u001b[0;32m/Users/linyujing/anaconda/lib/python3.6/site-packages/urllib3/util/ssl_.py\u001b[0m in \u001b[0;36mssl_wrap_socket\u001b[0;34m(sock, keyfile, certfile, cert_reqs, ca_certs, server_hostname, ssl_version, ciphers, ssl_context, ca_cert_dir)\u001b[0m\n\u001b[1;32m    311\u001b[0m     \u001b[0;32mif\u001b[0m \u001b[0mca_certs\u001b[0m \u001b[0;32mor\u001b[0m \u001b[0mca_cert_dir\u001b[0m\u001b[0;34m:\u001b[0m\u001b[0;34m\u001b[0m\u001b[0m\n\u001b[1;32m    312\u001b[0m         \u001b[0;32mtry\u001b[0m\u001b[0;34m:\u001b[0m\u001b[0;34m\u001b[0m\u001b[0m\n\u001b[0;32m--> 313\u001b[0;31m             \u001b[0mcontext\u001b[0m\u001b[0;34m.\u001b[0m\u001b[0mload_verify_locations\u001b[0m\u001b[0;34m(\u001b[0m\u001b[0mca_certs\u001b[0m\u001b[0;34m,\u001b[0m \u001b[0mca_cert_dir\u001b[0m\u001b[0;34m)\u001b[0m\u001b[0;34m\u001b[0m\u001b[0m\n\u001b[0m\u001b[1;32m    314\u001b[0m         \u001b[0;32mexcept\u001b[0m \u001b[0mIOError\u001b[0m \u001b[0;32mas\u001b[0m \u001b[0me\u001b[0m\u001b[0;34m:\u001b[0m  \u001b[0;31m# Platform-specific: Python 2.6, 2.7, 3.2\u001b[0m\u001b[0;34m\u001b[0m\u001b[0m\n\u001b[1;32m    315\u001b[0m             \u001b[0;32mraise\u001b[0m \u001b[0mSSLError\u001b[0m\u001b[0;34m(\u001b[0m\u001b[0me\u001b[0m\u001b[0;34m)\u001b[0m\u001b[0;34m\u001b[0m\u001b[0m\n",
      "\u001b[0;32m/Users/linyujing/anaconda/lib/python3.6/site-packages/urllib3/contrib/pyopenssl.py\u001b[0m in \u001b[0;36mload_verify_locations\u001b[0;34m(self, cafile, capath, cadata)\u001b[0m\n\u001b[1;32m    414\u001b[0m         \u001b[0;32mif\u001b[0m \u001b[0mcapath\u001b[0m \u001b[0;32mis\u001b[0m \u001b[0;32mnot\u001b[0m \u001b[0;32mNone\u001b[0m\u001b[0;34m:\u001b[0m\u001b[0;34m\u001b[0m\u001b[0m\n\u001b[1;32m    415\u001b[0m             \u001b[0mcapath\u001b[0m \u001b[0;34m=\u001b[0m \u001b[0mcapath\u001b[0m\u001b[0;34m.\u001b[0m\u001b[0mencode\u001b[0m\u001b[0;34m(\u001b[0m\u001b[0;34m'utf-8'\u001b[0m\u001b[0;34m)\u001b[0m\u001b[0;34m\u001b[0m\u001b[0m\n\u001b[0;32m--> 416\u001b[0;31m         \u001b[0mself\u001b[0m\u001b[0;34m.\u001b[0m\u001b[0m_ctx\u001b[0m\u001b[0;34m.\u001b[0m\u001b[0mload_verify_locations\u001b[0m\u001b[0;34m(\u001b[0m\u001b[0mcafile\u001b[0m\u001b[0;34m,\u001b[0m \u001b[0mcapath\u001b[0m\u001b[0;34m)\u001b[0m\u001b[0;34m\u001b[0m\u001b[0m\n\u001b[0m\u001b[1;32m    417\u001b[0m         \u001b[0;32mif\u001b[0m \u001b[0mcadata\u001b[0m \u001b[0;32mis\u001b[0m \u001b[0;32mnot\u001b[0m \u001b[0;32mNone\u001b[0m\u001b[0;34m:\u001b[0m\u001b[0;34m\u001b[0m\u001b[0m\n\u001b[1;32m    418\u001b[0m             \u001b[0mself\u001b[0m\u001b[0;34m.\u001b[0m\u001b[0m_ctx\u001b[0m\u001b[0;34m.\u001b[0m\u001b[0mload_verify_locations\u001b[0m\u001b[0;34m(\u001b[0m\u001b[0mBytesIO\u001b[0m\u001b[0;34m(\u001b[0m\u001b[0mcadata\u001b[0m\u001b[0;34m)\u001b[0m\u001b[0;34m)\u001b[0m\u001b[0;34m\u001b[0m\u001b[0m\n",
      "\u001b[0;32m/Users/linyujing/anaconda/lib/python3.6/site-packages/OpenSSL/SSL.py\u001b[0m in \u001b[0;36mload_verify_locations\u001b[0;34m(self, cafile, capath)\u001b[0m\n\u001b[1;32m    664\u001b[0m \u001b[0;34m\u001b[0m\u001b[0m\n\u001b[1;32m    665\u001b[0m         load_result = _lib.SSL_CTX_load_verify_locations(\n\u001b[0;32m--> 666\u001b[0;31m             \u001b[0mself\u001b[0m\u001b[0;34m.\u001b[0m\u001b[0m_context\u001b[0m\u001b[0;34m,\u001b[0m \u001b[0mcafile\u001b[0m\u001b[0;34m,\u001b[0m \u001b[0mcapath\u001b[0m\u001b[0;34m\u001b[0m\u001b[0m\n\u001b[0m\u001b[1;32m    667\u001b[0m         )\n\u001b[1;32m    668\u001b[0m         \u001b[0;32mif\u001b[0m \u001b[0;32mnot\u001b[0m \u001b[0mload_result\u001b[0m\u001b[0;34m:\u001b[0m\u001b[0;34m\u001b[0m\u001b[0m\n",
      "\u001b[0;31mKeyboardInterrupt\u001b[0m: "
     ]
    }
   ],
   "source": [
    "import requests\n",
    "import csv\n",
    "def get_title_from_file(address):\n",
    "    f= open(address, encoding = 'utf8')#讀所有詞\n",
    "    s = f.read()\n",
    "    #print(s)\n",
    "    spilt_s = s.split(\"\\n\")\n",
    "    return spilt_s\n",
    "\n",
    "print('---STAR---')\n",
    "print('ready to get IMDb id from file...')\n",
    "list_of_movie_title = get_title_from_file('16598title_movies.txt')\n",
    "print('sucess')\n",
    "\n",
    "# setting config\n",
    "CONFIG_PATTERN = 'https://api.themoviedb.org/3/authentication/token/new?api_key=e7a9762dabfdc186e180a0791bb06e7c'\n",
    "KEY = '<e7a9762dabfdc186e180a0791bb06e7c>'\n",
    "\n",
    "with open( 'all_movies_imdb_id', 'w' , encoding='UTF-8', newline='') as csv_file:\n",
    "    csv_writer = csv.writer(csv_file)\n",
    "    fileHeader = ['movie_title', 'imdb_id', 'runtime',  'budget']\n",
    "    csv_writer.writerow(fileHeader) \n",
    "    for title_num in range(0, len(list_of_movie_title)):\n",
    "        #search movie detail with movie title\n",
    "        pre_metadata_PATTERN = 'https://api.themoviedb.org/3/search/movie?api_key=e7a9762dabfdc186e180a0791bb06e7c&query=' + list_of_movie_title[title_num] \n",
    "        pre_results = requests.get(pre_metadata_PATTERN.format(key=KEY))\n",
    "        search_api_response = pre_results.json()\n",
    "        tmdb_id = search_api_response['results'][0]['id']\n",
    "        tmdb_id = str(tmdb_id)\n",
    "\n",
    "        #get imdb id \n",
    "        offic_metadata_PATTERN = 'https://api.themoviedb.org/3/movie/'+ tmdb_id +'?api_key=e7a9762dabfdc186e180a0791bb06e7c' \n",
    "        offic_results = requests.get(offic_metadata_PATTERN.format(key=KEY))\n",
    "        imdb_api_response = offic_results.json()\n",
    "        print(title_num, ': ')\n",
    "        print('title: ',imdb_api_response['title'])\n",
    "        print('IMDb ID: ',imdb_api_response['imdb_id'])\n",
    "        print('Runtime: ',imdb_api_response['runtime'])\n",
    "        print('Budget: ',imdb_api_response['budget'])\n",
    "        csv_writer.writerow([imdb_api_response['title'], imdb_api_response['imdb_id'], imdb_api_response['runtime'], imdb_api_response['budget']])\n",
    "        print()\n",
    "    \n",
    "print('---FINISH---')"
   ]
  },
  {
   "cell_type": "markdown",
   "metadata": {},
   "source": [
    "<div style=\"text-align:center;\"><h1>--------------------------------------------------------------------</h1></div>"
   ]
  },
  {
   "cell_type": "code",
   "execution_count": 44,
   "metadata": {
    "scrolled": true
   },
   "outputs": [
    {
     "data": {
      "text/plain": [
       "{'page': 1,\n",
       " 'results': [{'adult': False,\n",
       "   'backdrop_path': None,\n",
       "   'genre_ids': [99],\n",
       "   'id': 520558,\n",
       "   'original_language': 'en',\n",
       "   'original_title': 'Love & Bananas: An Elephant Story',\n",
       "   'overview': 'Ashley Bell and a team of elephant rescuers led by world renowned Asian elephant conservationist Lek Chailert, embark on a daring 48-hour mission across Thailand to rescue a 70-year old captive blind Asian elephant and bring her to freedom.',\n",
       "   'popularity': 3.8,\n",
       "   'poster_path': '/7YEcTAqPsZPe0ownh4RVwJYj1em.jpg',\n",
       "   'release_date': '2018-04-22',\n",
       "   'title': 'Love & Bananas: An Elephant Story',\n",
       "   'video': False,\n",
       "   'vote_average': 0,\n",
       "   'vote_count': 0},\n",
       "  {'adult': False,\n",
       "   'backdrop_path': '/l7yrTK8n1h6u8IlKdtK39AWMQ5x.jpg',\n",
       "   'genre_ids': [14, 35, 10751, 12],\n",
       "   'id': 12129,\n",
       "   'original_language': 'en',\n",
       "   'original_title': 'Herbie Goes Bananas',\n",
       "   'overview': 'The adorable little VW helps its owners break up a counterfeiting ring in Mexico.',\n",
       "   'popularity': 6.230938,\n",
       "   'poster_path': '/wopSyv8aYHpoAYyJtU5pwwvRsgW.jpg',\n",
       "   'release_date': '1980-06-25',\n",
       "   'title': 'Herbie Goes Bananas',\n",
       "   'video': False,\n",
       "   'vote_average': 5.1,\n",
       "   'vote_count': 60}],\n",
       " 'total_pages': 1,\n",
       " 'total_results': 2}"
      ]
     },
     "execution_count": 44,
     "metadata": {},
     "output_type": "execute_result"
    }
   ],
   "source": [
    "pre_metadata_PATTERN = 'https://api.themoviedb.org/3/search/movie?api_key=e7a9762dabfdc186e180a0791bb06e7c&query=Love Bananas' \n",
    "pre_results = requests.get(pre_metadata_PATTERN.format(key=KEY))\n",
    "search_api_response = pre_results.json()\n",
    "search_api_response\n",
    "#tmdb_id = search_api_response['results'][0]['id']\n",
    "#tmdb_id = str(tmdb_id)"
   ]
  },
  {
   "cell_type": "code",
   "execution_count": 47,
   "metadata": {},
   "outputs": [
    {
     "data": {
      "text/plain": [
       "'tt5164432'"
      ]
     },
     "execution_count": 47,
     "metadata": {},
     "output_type": "execute_result"
    }
   ],
   "source": [
    "import requests\n",
    "\n",
    "# setting config\n",
    "CONFIG_PATTERN = 'https://api.themoviedb.org/3/authentication/token/new?api_key=e7a9762dabfdc186e180a0791bb06e7c'\n",
    "KEY = '<e7a9762dabfdc186e180a0791bb06e7c>'\n",
    "\n",
    "#search movie detail with movie title\n",
    "pre_metadata_PATTERN = 'https://api.themoviedb.org/3/search/movie?api_key=e7a9762dabfdc186e180a0791bb06e7c&query=Love & Bananas' \n",
    "pre_results = requests.get(pre_metadata_PATTERN.format(key=KEY))\n",
    "search_api_response = pre_results.json()\n",
    "tmdb_id = search_api_response['results'][0]['id']\n",
    "tmdb_id = str(tmdb_id)\n",
    "\n",
    "#get imdb id \n",
    "offic_metadata_PATTERN = 'https://api.themoviedb.org/3/movie/'+ tmdb_id +'?api_key=e7a9762dabfdc186e180a0791bb06e7c' \n",
    "offic_results = requests.get(offic_metadata_PATTERN.format(key=KEY))\n",
    "imdb_api_response = offic_results.json()\n",
    "imdb_api_response['imdb_id']"
   ]
  },
  {
   "cell_type": "code",
   "execution_count": 24,
   "metadata": {
    "collapsed": true
   },
   "outputs": [],
   "source": [
    "import requests\n",
    "CONFIG_PATTERN = 'https://api.themoviedb.org/3/authentication/token/new?api_key=e7a9762dabfdc186e180a0791bb06e7c'\n",
    "KEY = '<e7a9762dabfdc186e180a0791bb06e7c>'\n",
    "matadata_PATTERN = 'https://api.themoviedb.org/3/search/movie?api_key=e7a9762dabfdc186e180a0791bb06e7c&query=Wal Mart The High Cost of Low Price' \n",
    "re = requests.get(matadata_PATTERN.format(key=KEY))\n",
    "api_response = re.json()"
   ]
  },
  {
   "cell_type": "code",
   "execution_count": 25,
   "metadata": {
    "scrolled": true
   },
   "outputs": [
    {
     "data": {
      "text/plain": [
       "{'page': 1,\n",
       " 'results': [{'adult': False,\n",
       "   'backdrop_path': '/3wFeNr1TBXeGNnjKWDZVxXNVY4J.jpg',\n",
       "   'genre_ids': [99],\n",
       "   'id': 29595,\n",
       "   'original_language': 'en',\n",
       "   'original_title': 'Wal-Mart: The High Cost of Low Price',\n",
       "   'overview': 'This documentary takes the viewer on a deeply personal journey into the everyday lives of families struggling to fight Goliath. From a family business owner in the Midwest to a preacher in California, from workers in Florida to a poet in Mexico, dozens of film crews on three continents bring the intensely personal stories of an assault on families and American values.',\n",
       "   'popularity': 2.584831,\n",
       "   'poster_path': '/6jh2yA236Dh6TX7hya0qbrnAQtK.jpg',\n",
       "   'release_date': '2005-11-04',\n",
       "   'title': 'Wal-Mart: The High Cost of Low Price',\n",
       "   'video': False,\n",
       "   'vote_average': 6.5,\n",
       "   'vote_count': 29}],\n",
       " 'total_pages': 1,\n",
       " 'total_results': 1}"
      ]
     },
     "execution_count": 25,
     "metadata": {},
     "output_type": "execute_result"
    }
   ],
   "source": [
    "api_response"
   ]
  },
  {
   "cell_type": "code",
   "execution_count": 26,
   "metadata": {},
   "outputs": [
    {
     "data": {
      "text/plain": [
       "'29595'"
      ]
     },
     "execution_count": 26,
     "metadata": {},
     "output_type": "execute_result"
    }
   ],
   "source": [
    "tmdb_id = api_response['results'][0]['id']\n",
    "tmdb_id = str(tmdb_id)\n",
    "tmdb_id"
   ]
  },
  {
   "cell_type": "code",
   "execution_count": 27,
   "metadata": {
    "collapsed": true
   },
   "outputs": [],
   "source": [
    "import requests\n",
    "CONFIG_PATTERN = 'https://api.themoviedb.org/3/authentication/token/new?api_key=e7a9762dabfdc186e180a0791bb06e7c'\n",
    "KEY = '<e7a9762dabfdc186e180a0791bb06e7c>'\n",
    "matadata_PATTERN = 'https://api.themoviedb.org/3/movie/'+ tmdb_id +'?api_key=e7a9762dabfdc186e180a0791bb06e7c' \n",
    "re = requests.get(matadata_PATTERN.format(key=KEY))\n",
    "api_response = re.json()"
   ]
  },
  {
   "cell_type": "code",
   "execution_count": 28,
   "metadata": {},
   "outputs": [
    {
     "data": {
      "text/plain": [
       "'tt0473107'"
      ]
     },
     "execution_count": 28,
     "metadata": {},
     "output_type": "execute_result"
    }
   ],
   "source": [
    "api_response['imdb_id']"
   ]
  },
  {
   "cell_type": "code",
   "execution_count": 3,
   "metadata": {
    "collapsed": true
   },
   "outputs": [],
   "source": [
    "import requests\n",
    "CONFIG_PATTERN = 'https://api.themoviedb.org/3/authentication/token/new?api_key=e7a9762dabfdc186e180a0791bb06e7c'\n",
    "KEY = '<e7a9762dabfdc186e180a0791bb06e7c>'\n",
    "\n",
    "IMG_PATTERN = 'http://api.themoviedb.org/3/movie/tt4154756/images?api_key=e7a9762dabfdc186e180a0791bb06e7c' \n",
    "r = requests.get(IMG_PATTERN.format(key=KEY,imdbid='tt4154756'))\n",
    "api_response = r.json()"
   ]
  },
  {
   "cell_type": "code",
   "execution_count": 61,
   "metadata": {},
   "outputs": [
    {
     "data": {
      "text/plain": [
       "{'adult': False,\n",
       " 'backdrop_path': '/uuQpQ8VDOtVL2IO4y2pR58odkS5.jpg',\n",
       " 'belongs_to_collection': None,\n",
       " 'budget': 33000000,\n",
       " 'genres': [{'id': 18, 'name': 'Drama'},\n",
       "  {'id': 27, 'name': 'Horror'},\n",
       "  {'id': 9648, 'name': 'Mystery'}],\n",
       " 'homepage': None,\n",
       " 'id': 381283,\n",
       " 'imdb_id': 'tt5109784',\n",
       " 'original_language': 'en',\n",
       " 'original_title': 'mother!',\n",
       " 'overview': \"A couple's relationship is tested when uninvited guests arrive at their home, disrupting their tranquil existence.\",\n",
       " 'popularity': 22.755127,\n",
       " 'poster_path': '/2yOKarmL8B4oXaLXUdHu882SUbu.jpg',\n",
       " 'production_companies': [{'id': 7503,\n",
       "   'logo_path': None,\n",
       "   'name': 'Protozoa Pictures',\n",
       "   'origin_country': ''}],\n",
       " 'production_countries': [{'iso_3166_1': 'US',\n",
       "   'name': 'United States of America'}],\n",
       " 'release_date': '2017-09-13',\n",
       " 'revenue': 34820846,\n",
       " 'runtime': 121,\n",
       " 'spoken_languages': [{'iso_639_1': 'en', 'name': 'English'}],\n",
       " 'status': 'Released',\n",
       " 'tagline': 'Seeing is believing',\n",
       " 'title': 'mother!',\n",
       " 'video': False,\n",
       " 'vote_average': 7.0,\n",
       " 'vote_count': 1873}"
      ]
     },
     "execution_count": 61,
     "metadata": {},
     "output_type": "execute_result"
    }
   ],
   "source": [
    "api_response"
   ]
  },
  {
   "cell_type": "code",
   "execution_count": null,
   "metadata": {
    "collapsed": true
   },
   "outputs": [],
   "source": []
  }
 ],
 "metadata": {
  "kernelspec": {
   "display_name": "Python 3",
   "language": "python",
   "name": "python3"
  },
  "language_info": {
   "codemirror_mode": {
    "name": "ipython",
    "version": 3
   },
   "file_extension": ".py",
   "mimetype": "text/x-python",
   "name": "python",
   "nbconvert_exporter": "python",
   "pygments_lexer": "ipython3",
   "version": "3.6.1"
  }
 },
 "nbformat": 4,
 "nbformat_minor": 2
}
